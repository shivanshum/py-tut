{
 "cells": [
  {
   "cell_type": "code",
   "execution_count": 19,
   "metadata": {},
   "outputs": [],
   "source": [
    "import textstat\n",
    "test_data =(\n",
    "    \"Playing games has always been thought to be important to \"\n",
    "    \"the development of well-balanced and creative children; \"\n",
    "    \"however, what part, if any, they should play in the lives \"\n",
    "    \"of adults has never been researched that deeply. I believe \"\n",
    "    \"that playing games is every bit as important for adults \"\n",
    "    \"as for children. Not only is taking time out to play games \"\n",
    "    \"with our children and other adults valuable to building \"\n",
    "    \"interpersonal relationships but is also a wonderful way \"\n",
    "    \"to release built up tension.\")"
   ]
  },
  {
   "cell_type": "code",
   "execution_count": 20,
   "metadata": {},
   "outputs": [
    {
     "data": {
      "text/plain": [
       "48.01"
      ]
     },
     "execution_count": 20,
     "metadata": {},
     "output_type": "execute_result"
    }
   ],
   "source": [
    " textstat.flesch_reading_ease(test_data)\n",
    " textstat.flesch_kincaid_grade(test_data)\n",
    " textstat.smog_index(test_data)\n",
    " textstat.coleman_liau_index(test_data)\n",
    " textstat.automated_readability_index(test_data)\n",
    " textstat.dale_chall_readability_score(test_data)\n",
    " textstat.difficult_words(test_data)\n",
    " textstat.linsear_write_formula(test_data)\n",
    " textstat.gunning_fog(test_data)\n",
    " textstat.text_standard(test_data)\n",
    " textstat.fernandez_huerta(test_data)\n",
    " textstat.szigriszt_pazos(test_data)\n",
    " textstat.gutierrez_polini(test_data)\n",
    " textstat.crawford(test_data)\n",
    " textstat.gulpease_index(test_data)\n",
    " textstat.osman(test_data)"
   ]
  },
  {
   "cell_type": "markdown",
   "metadata": {},
   "source": [
    "Score\tDifficulty\n",
    "90-100\tVery Easy\n",
    "80-89\tEasy\n",
    "70-79\tFairly Easy\n",
    "60-69\tStandard\n",
    "50-59\tFairly Difficult\n",
    "30-49\tDifficult\n",
    "0-29\tVery Confusing"
   ]
  }
 ],
 "metadata": {
  "interpreter": {
   "hash": "3844a49c18a74871cca5193e45c5e4b46b25b0886fff53449ea495a2f93c944d"
  },
  "kernelspec": {
   "display_name": "Python 3.9.7 ('base')",
   "language": "python",
   "name": "python3"
  },
  "language_info": {
   "codemirror_mode": {
    "name": "ipython",
    "version": 3
   },
   "file_extension": ".py",
   "mimetype": "text/x-python",
   "name": "python",
   "nbconvert_exporter": "python",
   "pygments_lexer": "ipython3",
   "version": "3.9.7"
  },
  "orig_nbformat": 4
 },
 "nbformat": 4,
 "nbformat_minor": 2
}
