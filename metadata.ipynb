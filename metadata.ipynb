{
 "cells": [
  {
   "cell_type": "code",
   "execution_count": 1,
   "metadata": {},
   "outputs": [
    {
     "name": "stderr",
     "output_type": "stream",
     "text": [
      "c:\\Users\\shiva\\anaconda3\\lib\\site-packages\\metadata_parser\\__init__.py:1331: FutureWarning: `search_head_only` was not provided and defaulting to `True` Future versions will default to `False`.\n",
      "  warn_future(\n"
     ]
    },
    {
     "name": "stdout",
     "output_type": "stream",
     "text": [
      "{'og': {'url': 'http://www.imdb.com/list/ls053501318/', 'image': 'https://m.media-amazon.com/images/G/01/imdb/images/social/imdb_logo._CB410901634_.png', 'title': 'Top 50 Popular Hollywood Actors and Actresses - IMDb', 'site_name': 'IMDb', 'description': 'Top 50 Popular Hollywood Actors and Actresses'}, 'meta': {'charset': 'utf-8', 'X-UA-Compatible': 'IE=edge', 'og:url': 'http://www.imdb.com/list/ls053501318/', 'theme-color': '#000000', 'pageId': 'ls053501318', 'pageType': 'list', 'subpageType': 'people', 'og:image': 'https://m.media-amazon.com/images/G/01/imdb/images/social/imdb_logo._CB410901634_.png', 'fb:app_id': '115109575169727', 'og:title': 'Top 50 Popular Hollywood Actors and Actresses - IMDb', 'og:site_name': 'IMDb', 'title': 'Top 50 Popular Hollywood Actors and Actresses - IMDb', 'description': 'Top 50 Popular Hollywood Actors and Actresses', 'og:description': 'Top 50 Popular Hollywood Actors and Actresses', 'request_id': 'MFJNGZCG8QAAKE63K0J2'}, 'dc': {}, 'page': {'title': 'Top 50 Popular Hollywood Actors and Actresses - IMDb', 'image': 'https://m.media-amazon.com/images/G/01/imdb/images/social/imdb_logo._CB410901634_.png', 'canonical': 'https://www.imdb.com/list/ls053501318/'}, 'twitter': {}, '_internal': {'url': 'https://www.imdb.com/list/ls053501318/', 'url_actual': 'https://www.imdb.com/list/ls053501318/', 'encoding': 'utf-8'}, '_v': 1}\n"
     ]
    }
   ],
   "source": [
    "import metadata_parser\n",
    "page = metadata_parser.MetadataParser('https://www.imdb.com/list/ls053501318/')\n",
    "print(page.metadata)"
   ]
  },
  {
   "cell_type": "code",
   "execution_count": 3,
   "metadata": {},
   "outputs": [
    {
     "name": "stderr",
     "output_type": "stream",
     "text": [
      "\n",
      "\n",
      "====== WebDriver manager ======\n",
      "Current google-chrome version is 101.0.4951\n",
      "Get LATEST chromedriver version for 101.0.4951 google-chrome\n",
      "There is no [win32] chromedriver for browser 101.0.4951 in cache\n",
      "Trying to download new driver from https://chromedriver.storage.googleapis.com/101.0.4951.41/chromedriver_win32.zip\n",
      "Driver has been saved in cache [C:\\Users\\shiva\\.wdm\\drivers\\chromedriver\\win32\\101.0.4951.41]\n"
     ]
    }
   ],
   "source": []
  },
  {
   "cell_type": "code",
   "execution_count": null,
   "metadata": {},
   "outputs": [],
   "source": []
  }
 ],
 "metadata": {
  "interpreter": {
   "hash": "3844a49c18a74871cca5193e45c5e4b46b25b0886fff53449ea495a2f93c944d"
  },
  "kernelspec": {
   "display_name": "Python 3.9.7 ('base')",
   "language": "python",
   "name": "python3"
  },
  "language_info": {
   "codemirror_mode": {
    "name": "ipython",
    "version": 3
   },
   "file_extension": ".py",
   "mimetype": "text/x-python",
   "name": "python",
   "nbconvert_exporter": "python",
   "pygments_lexer": "ipython3",
   "version": "3.9.7"
  },
  "orig_nbformat": 4
 },
 "nbformat": 4,
 "nbformat_minor": 2
}
