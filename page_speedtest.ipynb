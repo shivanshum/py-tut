{
 "cells": [
  {
   "cell_type": "code",
   "execution_count": 1,
   "metadata": {},
   "outputs": [
    {
     "name": "stdout",
     "output_type": "stream",
     "text": [
      "\n",
      "The time taken to load https://www.google.com/ is 0.0 seconds.\n"
     ]
    }
   ],
   "source": [
    "from urllib.request import urlopen\n",
    "import time\n",
    "\n",
    "\n",
    "def get_load_time(url):\n",
    "    \"\"\"This function takes a user defined url as input\n",
    "    and returns the time taken to load that url in seconds.\n",
    "    Args:\n",
    "        url (string): The user defined url.\n",
    "    Returns:\n",
    "        time_to_load (float): The time taken to load the website in seconds.\n",
    "    \"\"\"\n",
    "\n",
    "    if (\"https\" or \"http\") in url:  # Checking for presence of protocols\n",
    "        open_this_url = urlopen(url)  # Open the url as entered by the user\n",
    "    else:\n",
    "        open_this_url = urlopen(\"https://\" + url)  # Adding https to the url\n",
    "    start_time = time.time()  # Time stamp before the reading of url starts\n",
    "    open_this_url.read()  # Reading the user defined url\n",
    "    end_time = time.time()  # Time stamp after the reading of the url\n",
    "    open_this_url.close()  # Closing the instance of the urlopen object\n",
    "    time_to_load = end_time - start_time\n",
    "\n",
    "    return time_to_load\n",
    "\n",
    "\n",
    "if __name__ == '__main__':\n",
    "    url = input(\"Enter the url whose loading time you want to check: \")\n",
    "    print(f\"\\nThe time taken to load {url} is {get_load_time(url):.2} seconds.\")"
   ]
  },
  {
   "cell_type": "code",
   "execution_count": null,
   "metadata": {},
   "outputs": [],
   "source": []
  }
 ],
 "metadata": {
  "interpreter": {
   "hash": "3844a49c18a74871cca5193e45c5e4b46b25b0886fff53449ea495a2f93c944d"
  },
  "kernelspec": {
   "display_name": "Python 3.9.7 ('base')",
   "language": "python",
   "name": "python3"
  },
  "language_info": {
   "codemirror_mode": {
    "name": "ipython",
    "version": 3
   },
   "file_extension": ".py",
   "mimetype": "text/x-python",
   "name": "python",
   "nbconvert_exporter": "python",
   "pygments_lexer": "ipython3",
   "version": "3.9.7"
  },
  "orig_nbformat": 4
 },
 "nbformat": 4,
 "nbformat_minor": 2
}
